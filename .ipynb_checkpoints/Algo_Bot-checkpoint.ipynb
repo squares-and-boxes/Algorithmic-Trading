{
 "cells": [
  {
   "cell_type": "code",
   "execution_count": 1,
   "id": "15c54878-7008-4665-bdd7-50e8ae274f06",
   "metadata": {},
   "outputs": [],
   "source": [
    "sdasddasd=2"
   ]
  },
  {
   "cell_type": "code",
   "execution_count": 2,
   "id": "e7499479-98bc-4e50-98d6-f442d11d892c",
   "metadata": {},
   "outputs": [
    {
     "data": {
      "text/plain": [
       "2"
      ]
     },
     "execution_count": 2,
     "metadata": {},
     "output_type": "execute_result"
    }
   ],
   "source": [
    "sdasddasd"
   ]
  }
 ],
 "metadata": {
  "kernelspec": {
   "display_name": "Python 3 (ipykernel)",
   "language": "python",
   "name": "python3"
  },
  "language_info": {
   "codemirror_mode": {
    "name": "ipython",
    "version": 3
   },
   "file_extension": ".py",
   "mimetype": "text/x-python",
   "name": "python",
   "nbconvert_exporter": "python",
   "pygments_lexer": "ipython3",
   "version": "3.12.4"
  }
 },
 "nbformat": 4,
 "nbformat_minor": 5
}
