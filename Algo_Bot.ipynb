{
 "cells": [
  {
   "cell_type": "code",
   "execution_count": 1,
   "id": "15c54878-7008-4665-bdd7-50e8ae274f06",
   "metadata": {},
   "outputs": [],
   "source": [
    "sdasddasd=2"
   ]
  },
  {
   "cell_type": "code",
   "execution_count": 2,
   "id": "e7499479-98bc-4e50-98d6-f442d11d892c",
   "metadata": {},
   "outputs": [
    {
     "data": {
      "text/plain": [
       "2"
      ]
     },
     "execution_count": 2,
     "metadata": {},
     "output_type": "execute_result"
    }
   ],
   "source": [
    "sdasddasd"
   ]
  },
  {
   "cell_type": "code",
   "execution_count": null,
   "id": "615cab62-f58c-4da9-a791-a1a2bda3a4a5",
   "metadata": {},
   "outputs": [],
   "source": []
  },
  {
   "cell_type": "code",
   "execution_count": null,
   "id": "a96449b4-9f46-40d0-a201-0d26e1f99551",
   "metadata": {},
   "outputs": [],
   "source": []
  }
 ],
 "metadata": {
  "kernelspec": {
   "display_name": "Python 3 (ipykernel)",
   "language": "python",
   "name": "python3"
  },
  "language_info": {
   "codemirror_mode": {
    "name": "ipython",
    "version": 3
   },
   "file_extension": ".py",
   "mimetype": "text/x-python",
   "name": "python",
   "nbconvert_exporter": "python",
   "pygments_lexer": "ipython3",
   "version": "3.12.4"
  }
 },
 "nbformat": 4,
 "nbformat_minor": 5
}
